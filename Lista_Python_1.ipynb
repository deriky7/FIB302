{
  "nbformat": 4,
  "nbformat_minor": 0,
  "metadata": {
    "colab": {
      "provenance": [],
      "authorship_tag": "ABX9TyNTMSYFyu83cn3hOyi9jrj8",
      "include_colab_link": true
    },
    "kernelspec": {
      "name": "python3",
      "display_name": "Python 3"
    },
    "language_info": {
      "name": "python"
    }
  },
  "cells": [
    {
      "cell_type": "markdown",
      "metadata": {
        "id": "view-in-github",
        "colab_type": "text"
      },
      "source": [
        "<a href=\"https://colab.research.google.com/github/deriky7/FIB302/blob/main/Lista_Python_1.ipynb\" target=\"_parent\"><img src=\"https://colab.research.google.com/assets/colab-badge.svg\" alt=\"Open In Colab\"/></a>"
      ]
    },
    {
      "cell_type": "markdown",
      "source": [
        "Exercício 1 - Lista de programação básica.\n",
        "\n",
        "1) Suponha que a posição de um ponto no espaço bidimensional é dado em coordenadas polares \"r\", \"theta\" e queremos convertê-lo em coordenadas cartesianas \"x\", \"y\". Escreva um programa (em python) para fazer essa conversão. Para isso faça:\n",
        "\n",
        "- Obter do usuário os valores de \"r\" e \"theta\".\n",
        "- Converter esses valores em coordenadas cartesianas usando as fórmulas: x= rcos(theta) e y= rsin(theta)."
      ],
      "metadata": {
        "id": "kxjeh8LI21Mx"
      }
    },
    {
      "cell_type": "code",
      "execution_count": 5,
      "metadata": {
        "id": "0vbbNDaj0RXn",
        "outputId": "c0076433-e0c3-4ecb-a131-6ee0fe0607d9",
        "colab": {
          "base_uri": "https://localhost:8080/"
        }
      },
      "outputs": [
        {
          "output_type": "stream",
          "name": "stdout",
          "text": [
            "Digite o valor do raio (r): 2\n",
            "Digite o valor do ângulo em graus (theta): 45\n",
            "Coordenadas cartesianas (x, y): (1.4142135623730951, 1.414213562373095)\n"
          ]
        }
      ],
      "source": [
        "import math\n",
        "raio = float(input(\"Digite o valor do raio (r): \")) # Solicita os valores de raio e ângulo\n",
        "angulo_graus = float(input(\"Digite o valor do ângulo em graus (theta): \"))\n",
        "angulo_radianos = angulo_graus * (math.pi / 180) # Converte o ângulo de graus para radianos\n",
        "x = raio * math.cos(angulo_radianos) # Calcula as coordenadas cartesianas\n",
        "y = raio * math.sin(angulo_radianos)\n",
        "print(\"Coordenadas cartesianas (x, y):\", (x, y)) # Exibe as coordenadas cartesianas"
      ]
    },
    {
      "cell_type": "markdown",
      "source": [
        "Exercício 2 - Lista de programação básica.\n",
        "\n",
        "2 - Escreva um programa que compute os principais parametros de um lançamento obliquo dado o módulo da velocidade inicial e o angulo de lançamento. Imprima a saída de maneira que os resultados sejam descritos claramente."
      ],
      "metadata": {
        "id": "oYhCUL6z3j3n"
      }
    },
    {
      "cell_type": "code",
      "source": [
        "import math\n",
        "def calcular_parametros_lancamento(v0, theta): # Função para calcular os parâmetros do lançamento oblíquo\n",
        "    theta_rad = math.radians(theta)\n",
        "    vx0 = v0 * math.cos(theta_rad)\n",
        "    vy0 = v0 * math.sin(theta_rad)\n",
        "    t_subida = vy0 / 9.81\n",
        "    h_max = (vy0 ** 2) / (2 * 9.81)\n",
        "    alcance_horizontal = vx0 * (2 * t_subida)\n",
        "    t_total = 2 * t_subida\n",
        "\n",
        "    print(\"Velocidade inicial (m/s):\", v0) # Exibindo os resultados\n",
        "    print(\"Ângulo de lançamento (graus):\", theta)\n",
        "    print(\"Componente da velocidade inicial na direção horizontal (m/s):\", round(vx0, 2))\n",
        "    print(\"Componente da velocidade inicial na direção vertical (m/s):\", round(vy0, 2))\n",
        "    print(\"Tempo de subida (s):\", round(t_subida, 2))\n",
        "    print(\"Altura máxima atingida (m):\", round(h_max, 2))\n",
        "    print(\"Alcance horizontal (m):\", round(alcance_horizontal, 2))\n",
        "    print(\"Tempo total de voo (s):\", round(t_total, 2))\n",
        "\n",
        "v0 = float(input(\"Digite o módulo da velocidade inicial (m/s): \"))  #Obtendo entrada do usuário\n",
        "theta = float(input(\"Digite o ângulo de lançamento (graus): \"))\n",
        "print(\"\\nResultados do lançamento oblíquo:\") # Chamando a função para calcular os parãmetros do lançamento oblíquo\n",
        "calcular_parametros_lancamento(v0, theta)\n"
      ],
      "metadata": {
        "colab": {
          "base_uri": "https://localhost:8080/"
        },
        "id": "aOpYgIT-3I2J",
        "outputId": "7929fd88-a118-4915-d76d-b8f2ab096f04"
      },
      "execution_count": 6,
      "outputs": [
        {
          "output_type": "stream",
          "name": "stdout",
          "text": [
            "Digite o módulo da velocidade inicial (m/s): 3\n",
            "Digite o ângulo de lançamento (graus): 45\n",
            "\n",
            "Resultados do lançamento oblíquo:\n",
            "Velocidade inicial (m/s): 3.0\n",
            "Ângulo de lançamento (graus): 45.0\n",
            "Componente da velocidade inicial na direção horizontal (m/s): 2.12\n",
            "Componente da velocidade inicial na direção vertical (m/s): 2.12\n",
            "Tempo de subida (s): 0.22\n",
            "Altura máxima atingida (m): 0.23\n",
            "Alcance horizontal (m): 0.92\n",
            "Tempo total de voo (s): 0.43\n"
          ]
        }
      ]
    },
    {
      "cell_type": "markdown",
      "source": [
        "Exercício 3 - Lista de programação básica.\n",
        "\n",
        "3 - Escreva um programa que cheque se um numero dado é par ou impar."
      ],
      "metadata": {
        "id": "8-PcN4W-4Ph8"
      }
    },
    {
      "cell_type": "code",
      "source": [
        "\n",
        "numero = int(input(\"Digite um número inteiro: \")) #Obtendo entrada do usuário\n",
        "par_impar = [\"par\", \"ímpar\"] # Criando uma lista de strings para representar par ou ímpar\n",
        "resultado = par_impar[numero % 2] # Verificando se o numero é par ou ímpar usando aritmética modular\n",
        "print(\"O número\", numero, \"é\", resultado + \".\") # Exibindo o resultado\n"
      ],
      "metadata": {
        "colab": {
          "base_uri": "https://localhost:8080/"
        },
        "id": "jFz7LJdu4aNl",
        "outputId": "18493f42-74df-4294-d7b3-06868188636c"
      },
      "execution_count": 8,
      "outputs": [
        {
          "output_type": "stream",
          "name": "stdout",
          "text": [
            "Digite um número inteiro: 340\n",
            "O número 340 é par.\n"
          ]
        }
      ]
    },
    {
      "cell_type": "markdown",
      "source": [
        "Exercício 4 - Lista de programação básica.\n",
        "\n",
        "4 - Exercício 1.8: Atualizar variável no prompt de comando: Chame Python interativamente e execute as etapas a seguir.\n",
        "Inicialize uma variável x para 2\n",
        "Adicione 3 a x. Imprima o resultado.\n",
        "Que tipo de variável é x?\n",
        "Imprima o resultado de x+12 e de (x+1.0)2. (Observe como os parenteses e a notação fazem a diferença).\n",
        "Que tipo de variável é x em cada caso?"
      ],
      "metadata": {
        "id": "QfwhDRLG4g7Q"
      }
    },
    {
      "cell_type": "code",
      "source": [
        "\n",
        "x = 2 # Inicialize a variável X para 2\n",
        "x = x + 3 # Adicione 3 a X e imprima o resultado\n",
        "print(\"Resultado de x + 3:\", x)\n",
        "print(\"Tipo de variável de x:\", type(x)) # Verifique o tipo de variável que X é\n",
        "print(\"Resultado de x + 12:\", x + 12) # Imprima o resultado de X + 12\n",
        "print(\"Resultado de (x + 1.0) ** 2:\", (x + 1.0) ** 2) # Imprima o resultado de ( X + 1.0 ) ** 2\n",
        "print(\"Tipo de variável de x + 12:\", type(x + 12)) # Verifique o tipo de variável que X é em cada caso\n",
        "print(\"Tipo de variável de (x + 1.0) ** 2:\", type((x + 1.0) ** 2))\n"
      ],
      "metadata": {
        "colab": {
          "base_uri": "https://localhost:8080/"
        },
        "id": "RzpxtcwI4kCd",
        "outputId": "7cb4546a-fbbf-442d-c60c-6c457ebf5e43"
      },
      "execution_count": 9,
      "outputs": [
        {
          "output_type": "stream",
          "name": "stdout",
          "text": [
            "Resultado de x + 3: 5\n",
            "Tipo de variável de x: <class 'int'>\n",
            "Resultado de x + 12: 17\n",
            "Resultado de (x + 1.0) ** 2: 36.0\n",
            "Tipo de variável de x + 12: <class 'int'>\n",
            "Tipo de variável de (x + 1.0) ** 2: <class 'float'>\n"
          ]
        }
      ]
    },
    {
      "cell_type": "markdown",
      "source": [
        "Lista Python 1.\n",
        "\n",
        "1 - Defina três variáveis: um inteiro, um número de ponto flutuante e uma string. Imprima o tipo de cada variável.\n"
      ],
      "metadata": {
        "id": "kaOYOTgG6cHK"
      }
    },
    {
      "cell_type": "code",
      "source": [
        "\n",
        "inteiro = 10 # Defininado as variáveis\n",
        "flutuante = 3.14\n",
        "string = \"Batutinha\"\n",
        "print(\"Tipo da variável 'inteiro':\", type(inteiro)) # Imprimindo o tipo de cada variável\n",
        "print(\"Tipo da variável 'flutuante':\", type(flutuante))\n",
        "print(\"Tipo da variável 'string':\", type(string))\n"
      ],
      "metadata": {
        "colab": {
          "base_uri": "https://localhost:8080/"
        },
        "id": "cfSsRj_j6lrf",
        "outputId": "f744feb5-3a65-4a61-82c0-6d7a6c2cffb8"
      },
      "execution_count": 10,
      "outputs": [
        {
          "output_type": "stream",
          "name": "stdout",
          "text": [
            "Tipo da variável 'inteiro': <class 'int'>\n",
            "Tipo da variável 'flutuante': <class 'float'>\n",
            "Tipo da variável 'string': <class 'str'>\n"
          ]
        }
      ]
    },
    {
      "cell_type": "markdown",
      "source": [
        "Lista Python 1.\n",
        "\n",
        "2 - Execute as seguintes operações e imprima os resultados:\n",
        "Adição de dois inteiros\n",
        "Divisão de dois números de ponto flutuante\n",
        "Concatenação de duas strings\n",
        "Entrada e saída do usuário:\n",
        "Peça ao usuário para inserir seu nome. Imprima uma mensagem de boas-vindas usando o nome inserido."
      ],
      "metadata": {
        "id": "MiS4nhlM63-I"
      }
    },
    {
      "cell_type": "code",
      "source": [
        "\n",
        "soma = 5 + 3 # Adição de dois inteiros\n",
        "print(\"Resultado da adição de dois inteiros:\", soma)\n",
        "divisao = 10.5 / 2.5 # Divisão de dois números de ponto flutuante\n",
        "print(\"Resultado da divisão de dois números de ponto flutuante:\", divisao)\n",
        "string_concatenada = \"Nunca nem \" + \"vi\" # Concatenação de duas strings\n",
        "print(\"Resultado da concatenação de duas strings:\", string_concatenada)\n",
        "\n",
        "nome = input(\"Digite seu nome: \") # Entrada do usuário\n",
        "print(\"Bem-vindo,\", nome + \"!\") # Saída usando o nome inserido pelo usuário\n"
      ],
      "metadata": {
        "colab": {
          "base_uri": "https://localhost:8080/"
        },
        "id": "bDKTRCkL7AH2",
        "outputId": "c0dd6478-a1a7-4867-fb59-aa71de28d762"
      },
      "execution_count": 11,
      "outputs": [
        {
          "output_type": "stream",
          "name": "stdout",
          "text": [
            "Resultado da adição de dois inteiros: 8\n",
            "Resultado da divisão de dois números de ponto flutuante: 4.2\n",
            "Resultado da concatenação de duas strings: Nunca nem vi\n",
            "Digite seu nome: derek\n",
            "Bem-vindo, derek!\n"
          ]
        }
      ]
    },
    {
      "cell_type": "markdown",
      "source": [
        "Lista Python 1.\n",
        "\n",
        "3 - Escreva um programa que calcule a área de um retângulo. Solicite ao usuário o comprimento e a largura e imprima o resultado."
      ],
      "metadata": {
        "id": "5q1VeUQF7HAN"
      }
    },
    {
      "cell_type": "code",
      "source": [
        "\n",
        "comprimento = float(input(\"Digite o comprimento do retângulo: \")) # Solicitar ao usuário o comprimento e largura do retângulo\n",
        "largura = float(input(\"Digite a largura do retângulo: \"))\n",
        "area = comprimento * largura # Calcular a área do retângulo\n",
        "print(\"A área do retângulo é:\", area) # Imprimir o resultado\n"
      ],
      "metadata": {
        "colab": {
          "base_uri": "https://localhost:8080/"
        },
        "id": "WMDjNgM17L3V",
        "outputId": "161a7d7f-c67e-4029-f254-92d48b40d31c"
      },
      "execution_count": 12,
      "outputs": [
        {
          "output_type": "stream",
          "name": "stdout",
          "text": [
            "Digite o comprimento do retângulo: 5\n",
            "Digite a largura do retângulo: 7\n",
            "A área do retângulo é: 35.0\n"
          ]
        }
      ]
    },
    {
      "cell_type": "markdown",
      "source": [
        "Lista Python 1.\n",
        "\n",
        "4 - Peça ao usuário uma temperatura em Celsius e converta para Fahrenheit. Imprima o resultado."
      ],
      "metadata": {
        "id": "4gco4-517V-R"
      }
    },
    {
      "cell_type": "code",
      "source": [
        "\n",
        "temperatura_celsius = float(input(\"Digite a temperatura em Celsius: \")) # Solicitar ao usuário a temperatura em Celsius\n",
        "temperatura_fahrenheit = (temperatura_celsius * 9/5) + 32 # Converter Celsius para Fahrenheit\n",
        "print(\"A temperatura em Fahrenheit é:\", temperatura_fahrenheit) # Imprimir o resultado\n"
      ],
      "metadata": {
        "colab": {
          "base_uri": "https://localhost:8080/"
        },
        "id": "ZuToA39d7Z20",
        "outputId": "b59840b6-0721-4ebe-bc28-0cf9816d62d6"
      },
      "execution_count": 15,
      "outputs": [
        {
          "output_type": "stream",
          "name": "stdout",
          "text": [
            "Digite a temperatura em Celsius: 32\n",
            "A temperatura em Fahrenheit é: 89.6\n"
          ]
        }
      ]
    },
    {
      "cell_type": "markdown",
      "source": [
        "Lista Python 1.\n",
        "\n",
        "5 - Escreva um programa que calcule o valor da expressão: (2 * (3 + 4)) / 5. Imprima o resultado."
      ],
      "metadata": {
        "id": "F61xSZv37hXK"
      }
    },
    {
      "cell_type": "code",
      "source": [
        "\n",
        "resultado = (2 * (3 + 4)) / 5 # Calcular o valor da expressão\n",
        "print(\"O valor da expressão é:\", resultado) # Imprimir o resultado\n"
      ],
      "metadata": {
        "colab": {
          "base_uri": "https://localhost:8080/"
        },
        "id": "W9_HRj8v7jwn",
        "outputId": "063e11d5-a5bf-4e53-e41d-46f100cb4d3e"
      },
      "execution_count": 16,
      "outputs": [
        {
          "output_type": "stream",
          "name": "stdout",
          "text": [
            "O valor da expressão é: 2.8\n"
          ]
        }
      ]
    },
    {
      "cell_type": "markdown",
      "source": [
        "  Lista Python 1 - EXTRA\n",
        "  \n",
        "\n",
        "  6 - Crie uma string e imprima-a na ordem inversa."
      ],
      "metadata": {
        "id": "_4-w3bXR7nYI"
      }
    },
    {
      "cell_type": "code",
      "source": [
        "\n",
        "minha_string = \"Jiwle Wig o carrinho mais rápido já visto! \" # Criar a string\n",
        "string_invertida = minha_string[::-1] # Inverter a string usando fatiamento\n",
        "print(\"String invertida:\", string_invertida) # Imprimir a string invertida\n"
      ],
      "metadata": {
        "colab": {
          "base_uri": "https://localhost:8080/"
        },
        "id": "nzGpwBPH7tVc",
        "outputId": "56b2d8a7-1caf-4b68-bade-3bdea154d7e2"
      },
      "execution_count": 17,
      "outputs": [
        {
          "output_type": "stream",
          "name": "stdout",
          "text": [
            "String invertida:  !otsiv áj odipár siam ohnirrac o giW elwiJ\n"
          ]
        }
      ]
    },
    {
      "cell_type": "markdown",
      "source": [
        "Lista Python 1 - EXTRA\n",
        "\n",
        "7 - Crie uma string com uma mistura de letras maiúsculas e minúsculas. Converta para letras maiúsculas e imprima o resultado."
      ],
      "metadata": {
        "id": "fnEwjC4U70j6"
      }
    },
    {
      "cell_type": "code",
      "source": [
        "\n",
        "minha_string = \"EsTÉticA FURlaN Jr com SR AnToNHO\" # Criar a string com uma mistura de letras maiúsculas e minúsculas\n",
        "string_maiuscula = minha_string.upper() # Converter a string para letras maiúsculas\n",
        "print(\"String em letras maiúsculas:\", string_maiuscula) # Imprimir o resultado\n"
      ],
      "metadata": {
        "colab": {
          "base_uri": "https://localhost:8080/"
        },
        "id": "23IWV1iG73tY",
        "outputId": "9a6574b0-5a64-4292-d4c9-3acf3c5842c5"
      },
      "execution_count": 18,
      "outputs": [
        {
          "output_type": "stream",
          "name": "stdout",
          "text": [
            "String em letras maiúsculas: ESTÉTICA FURLAN JR COM SR ANTONHO\n"
          ]
        }
      ]
    }
  ]
}