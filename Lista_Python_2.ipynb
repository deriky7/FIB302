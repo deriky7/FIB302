{
  "nbformat": 4,
  "nbformat_minor": 0,
  "metadata": {
    "colab": {
      "provenance": [],
      "authorship_tag": "ABX9TyP18jOlVHFuWxcTEpwqXUFL",
      "include_colab_link": true
    },
    "kernelspec": {
      "name": "python3",
      "display_name": "Python 3"
    },
    "language_info": {
      "name": "python"
    }
  },
  "cells": [
    {
      "cell_type": "markdown",
      "metadata": {
        "id": "view-in-github",
        "colab_type": "text"
      },
      "source": [
        "<a href=\"https://colab.research.google.com/github/deriky7/FIB302/blob/main/Lista_Python_2.ipynb\" target=\"_parent\"><img src=\"https://colab.research.google.com/assets/colab-badge.svg\" alt=\"Open In Colab\"/></a>"
      ]
    },
    {
      "cell_type": "markdown",
      "source": [
        "Lista 2 - Python\n",
        "\n",
        "1. Defina uma lista contendo cinco inteiros. Imprima a lista inteira e o terceiro elemento."
      ],
      "metadata": {
        "id": "TBVtt1EQza72"
      }
    },
    {
      "cell_type": "code",
      "source": [
        "\n",
        "lista = [11011, 12011, 13011, 14011, 15011] # Define a lista com cinco inteiros\n",
        "\n",
        "print(\"Lista inteira:\", lista) # Imprime a lista inteira\n",
        "\n",
        "print(\"Terceiro elemento:\", lista[2]) # Imprime o terceiro elemento (índice 2, pois a indexação começa em 0)"
      ],
      "metadata": {
        "colab": {
          "base_uri": "https://localhost:8080/"
        },
        "id": "6rKHU_z_zdqO",
        "outputId": "626376c3-1e27-45a7-cd8f-c5b4211c87ce"
      },
      "execution_count": 50,
      "outputs": [
        {
          "output_type": "stream",
          "name": "stdout",
          "text": [
            "Lista inteira: [11011, 12011, 13011, 14011, 15011]\n",
            "Terceiro elemento: 13011\n"
          ]
        }
      ]
    },
    {
      "cell_type": "markdown",
      "source": [
        "2. Crie uma lista vazia e anexe três inteiros a ela. Em seguida, estenda a lista com outra lista contendo mais dois inteiros. Imprima a lista final."
      ],
      "metadata": {
        "id": "opD7PoJc0FQF"
      }
    },
    {
      "cell_type": "code",
      "source": [
        "\n",
        "lista = [] # Cria uma lista vazia\n",
        "\n",
        "lista.append(0) # Anexa três inteiros à lista\n",
        "lista.append(1)\n",
        "lista.append(1)\n",
        "\n",
        "outra_lista = [2, 3] # Cria outra lista contendo dois inteiros\n",
        "\n",
        "lista.extend(outra_lista) # Estende a lista original com os elementos da outra lista\n",
        "\n",
        "print(\"Lista final:\", lista) # Imprime a lista final"
      ],
      "metadata": {
        "colab": {
          "base_uri": "https://localhost:8080/"
        },
        "id": "xdCCfISH0GS7",
        "outputId": "7f3727df-e166-4868-bfce-2a92521e0e11"
      },
      "execution_count": 51,
      "outputs": [
        {
          "output_type": "stream",
          "name": "stdout",
          "text": [
            "Lista final: [0, 1, 1, 2, 3]\n"
          ]
        }
      ]
    },
    {
      "cell_type": "markdown",
      "source": [
        "3. Defina uma lista de 10 números. Imprima os primeiros cinco números e os últimos cinco números usando fatiamento."
      ],
      "metadata": {
        "id": "dWQrwVd_1HcF"
      }
    },
    {
      "cell_type": "code",
      "source": [
        "\n",
        "numeros = [0, 1, 1, 2, 3, 5, 8, 13, 21, 34] # Define a lista de 10 números\n",
        "\n",
        "print(\"Primeiros cinco números:\", numeros[:5]) # Imprime os primeiros cinco números usando fatiamento\n",
        "\n",
        "print(\"Últimos cinco números:\", numeros[5:]) # Imprime os últimos cinco números usando fatiamento"
      ],
      "metadata": {
        "colab": {
          "base_uri": "https://localhost:8080/"
        },
        "id": "J3Vfbq111IGt",
        "outputId": "46f52448-cc8a-4cef-a8bb-293d7ce96d07"
      },
      "execution_count": 52,
      "outputs": [
        {
          "output_type": "stream",
          "name": "stdout",
          "text": [
            "Primeiros cinco números: [0, 1, 1, 2, 3]\n",
            "Últimos cinco números: [5, 8, 13, 21, 34]\n"
          ]
        }
      ]
    },
    {
      "cell_type": "markdown",
      "source": [
        "4. Crie duas listas de igual comprimento contendo inteiros. Adicione os elementos correspondentes das duas listas e imprima o resultado (Obs: sem usar FOR)."
      ],
      "metadata": {
        "id": "NhHquYdF10Ze"
      }
    },
    {
      "cell_type": "code",
      "source": [
        "\n",
        "lista1 = [1, 2, 2, 2, 1] # Duas listas de igual comprimento contendo inteiros\n",
        "lista2 = [10, 2, 2, 2, 10]\n",
        "\n",
        "resultado = list(map(sum, zip(lista1, lista2))) # Adiciona os elementos correspondentes das duas listas\n",
        "\n",
        "print(\"Resultado da adição:\", resultado) # Imprime o resultado"
      ],
      "metadata": {
        "colab": {
          "base_uri": "https://localhost:8080/"
        },
        "id": "DV__5IwB12FG",
        "outputId": "bf3692f7-8b9f-4eb7-9efc-32f4a185d659"
      },
      "execution_count": 66,
      "outputs": [
        {
          "output_type": "stream",
          "name": "stdout",
          "text": [
            "Resultado da adição: [11, 4, 4, 4, 11]\n"
          ]
        }
      ]
    },
    {
      "cell_type": "markdown",
      "source": [
        "5. Defina duas listas e concatene-as sem usar o operador `+`. Imprima a lista concatenada."
      ],
      "metadata": {
        "id": "uvg7lx4-2KCM"
      }
    },
    {
      "cell_type": "code",
      "source": [
        "\n",
        "lista1 = [1, 3, 3] # Define duas listas\n",
        "lista2 = [1, 3, 1]\n",
        "\n",
        "lista1.extend(lista2) # Concatena as duas listas\n",
        "\n",
        "print(\"Lista concatenada:\", lista1) # Imprime a lista concatenada"
      ],
      "metadata": {
        "colab": {
          "base_uri": "https://localhost:8080/"
        },
        "id": "-hur35wQ2K2B",
        "outputId": "c9839389-baca-48f4-cd58-4186f407de6c"
      },
      "execution_count": 67,
      "outputs": [
        {
          "output_type": "stream",
          "name": "stdout",
          "text": [
            "Lista concatenada: [1, 3, 3, 1, 3, 1]\n"
          ]
        }
      ]
    },
    {
      "cell_type": "markdown",
      "source": [
        "6. Crie um array de inteiros. Imprima o array."
      ],
      "metadata": {
        "id": "TNHhtHHk2gPl"
      }
    },
    {
      "cell_type": "code",
      "source": [
        "import numpy as np\n",
        "\n",
        "array_inteiros = np.array([3, 14, 15, 92, 65]) # Cria um array de inteiros\n",
        "\n",
        "print(\"Array de inteiros:\", array_inteiros) # Imprime o array"
      ],
      "metadata": {
        "colab": {
          "base_uri": "https://localhost:8080/"
        },
        "id": "2Nw_eouN2g6e",
        "outputId": "3c39bdd0-4652-42cc-e83e-e4fcdf075207"
      },
      "execution_count": 55,
      "outputs": [
        {
          "output_type": "stream",
          "name": "stdout",
          "text": [
            "Array de inteiros: [ 3 14 15 92 65]\n"
          ]
        }
      ]
    },
    {
      "cell_type": "markdown",
      "source": [
        "7. Crie um array de números de ponto flutuante. Acesse o terceiro elemento e modifique-o. Imprima o array modificado."
      ],
      "metadata": {
        "id": "W6Qj_Ggp271j"
      }
    },
    {
      "cell_type": "code",
      "source": [
        "import numpy as np\n",
        "\n",
        "array_float = np.array([1.2, 1.3, 1.4, 1.5, 1.6]) # Cria um array de números de ponto flutuante\n",
        "\n",
        "array_float[2] = 1.35 # Acessa e modifica o terceiro elemento\n",
        "\n",
        "print(\"Array modificado:\", array_float) # Imprime o array modificado"
      ],
      "metadata": {
        "colab": {
          "base_uri": "https://localhost:8080/"
        },
        "id": "ouF6yT2e28gq",
        "outputId": "597fcd29-2182-413c-e421-3bd9a91f2af5"
      },
      "execution_count": 56,
      "outputs": [
        {
          "output_type": "stream",
          "name": "stdout",
          "text": [
            "Array modificado: [1.2  1.3  1.35 1.5  1.6 ]\n"
          ]
        }
      ]
    },
    {
      "cell_type": "markdown",
      "source": [
        "8. Defina dois arrays de inteiros usando a biblioteca numpy. Adicione os elementos correspondentes e imprima o resultado."
      ],
      "metadata": {
        "id": "_m9mJP7_5JLV"
      }
    },
    {
      "cell_type": "code",
      "source": [
        "import numpy as np\n",
        "\n",
        "array1 = np.array([1, -7, 3, 9, 5]) # Define dois arrays de inteiros\n",
        "array2 = np.array([-1, 7, -3, -9, -4])\n",
        "\n",
        "resultado = array1 + array2 # Adiciona os elementos correspondentes dos dois arrays\n",
        "\n",
        "print(\"Resultado da adição:\", resultado) # Imprime o resultado"
      ],
      "metadata": {
        "colab": {
          "base_uri": "https://localhost:8080/"
        },
        "id": "F1o5Zk675K_8",
        "outputId": "40e25573-ee1c-4ce0-ccdb-b3bbcc09247e"
      },
      "execution_count": 57,
      "outputs": [
        {
          "output_type": "stream",
          "name": "stdout",
          "text": [
            "Resultado da adição: [0 0 0 0 1]\n"
          ]
        }
      ]
    },
    {
      "cell_type": "markdown",
      "source": [
        "9. Defina arrays para velocidade inicial, ângulo e tempo. Calcule e imprima as posições horizontal e vertical de um projétil usando as equações de movimento pertinentes. Suponha que v_0 = 20m/s, theta = 45 graus e g = 9,8m/s2."
      ],
      "metadata": {
        "id": "Z9SmLiEl5rkd"
      }
    },
    {
      "cell_type": "code",
      "source": [
        "import numpy as np\n",
        "\n",
        "# Constantes\n",
        "v_0 = 20  # Velocidade inicial em m/s\n",
        "theta = np.deg2rad(45)  # Ângulo em radianos\n",
        "g = 9.8  # Aceleração devido à gravidade em m/s^2\n",
        "t = np.arange(0, 10, 1)  # Array de tempo de 0 a 10 segundos\n",
        "\n",
        "x = v_0 * np.cos(theta) * t # Calcula as posições horizontal e vertical\n",
        "y = v_0 * np.sin(theta) * t - 0.5 * g * t**2\n",
        "\n",
        "for i in range(len(t)): # Imprime as posições horizontal e vertical\n",
        "    print(f\"No instante t={t[i]}s: Posição horizontal: {x[i]}m, Posição vertical: {y[i]}m\")"
      ],
      "metadata": {
        "colab": {
          "base_uri": "https://localhost:8080/"
        },
        "id": "7xCiUvbU5sMM",
        "outputId": "8e99a341-02aa-492c-dccd-584ffd85627e"
      },
      "execution_count": 58,
      "outputs": [
        {
          "output_type": "stream",
          "name": "stdout",
          "text": [
            "No instante t=0s: Posição horizontal: 0.0m, Posição vertical: 0.0m\n",
            "No instante t=1s: Posição horizontal: 14.142135623730951m, Posição vertical: 9.242135623730949m\n",
            "No instante t=2s: Posição horizontal: 28.284271247461902m, Posição vertical: 8.684271247461897m\n",
            "No instante t=3s: Posição horizontal: 42.42640687119285m, Posição vertical: -1.6735931288071555m\n",
            "No instante t=4s: Posição horizontal: 56.568542494923804m, Posição vertical: -21.83145750507621m\n",
            "No instante t=5s: Posição horizontal: 70.71067811865476m, Posição vertical: -51.78932188134527m\n",
            "No instante t=6s: Posição horizontal: 84.8528137423857m, Posição vertical: -91.54718625761431m\n",
            "No instante t=7s: Posição horizontal: 98.99494936611666m, Posição vertical: -141.10505063388337m\n",
            "No instante t=8s: Posição horizontal: 113.13708498984761m, Posição vertical: -200.46291501015241m\n",
            "No instante t=9s: Posição horizontal: 127.27922061357856m, Posição vertical: -269.6207793864215m\n"
          ]
        }
      ]
    },
    {
      "cell_type": "markdown",
      "source": [
        "10. Defina arrays para tempo e deslocamento. Calcule e represente graficamente o deslocamento de um objeto em movimento harmônico simples. Suponha que a amplitude seja A = 1m e  a velocidade angular omega = 2*pi rad/s."
      ],
      "metadata": {
        "id": "SKeBZeBx6JeW"
      }
    },
    {
      "cell_type": "code",
      "source": [
        "import numpy as np\n",
        "import matplotlib.pyplot as plt\n",
        "\n",
        "# Parâmetros do movimento\n",
        "A = 1  # Amplitude em metros\n",
        "omega = 2 * np.pi  # Velocidade angular em rad/s\n",
        "\n",
        "tempo = np.arange(0, 10, 0.1) # Array de tempo de 0 a 10 segundos com incrementos de 0.1 segundos\n",
        "\n",
        "deslocamento = A * np.cos(omega * tempo) # Calcula o deslocamento para cada instante de tempo\n",
        "\n",
        "plt.plot(tempo, deslocamento, label='Deslocamento') # Plota o gráfico do deslocamento em função do tempo\n",
        "plt.xlabel('Tempo (s)')\n",
        "plt.ylabel('Deslocamento (m)')\n",
        "plt.title('Deslocamento de um objeto em MHS')\n",
        "plt.grid(True)\n",
        "plt.legend()\n",
        "plt.show()"
      ],
      "metadata": {
        "colab": {
          "base_uri": "https://localhost:8080/",
          "height": 472
        },
        "id": "zM6lu0nq6K8F",
        "outputId": "c4eb56e2-86a7-4dad-e0eb-a9f27069691a"
      },
      "execution_count": 59,
      "outputs": [
        {
          "output_type": "display_data",
          "data": {
            "text/plain": [
              "<Figure size 640x480 with 1 Axes>"
            ],
            "image/png": "[encoded data removed]"
          },
          "metadata": {}
        }
      ]
    },
    {
      "cell_type": "markdown",
      "source": [
        "EXTRA:\n",
        "\n",
        "- Defina um array de 10 inteiros. Imprima sua forma e remodele-a em uma matriz 2x5. Imprima a matriz remodelada"
      ],
      "metadata": {
        "id": "78IfhRnB6hBN"
      }
    },
    {
      "cell_type": "code",
      "source": [
        "import numpy as np\n",
        "\n",
        "array_inteiros = np.array([2, 2, 3, 3, 5, 5, 7, 7, 9, 11]) # Define um array de 10 inteiros\n",
        "\n",
        "print(\"Forma do array original:\", array_inteiros.shape) # Imprime a forma do array original\n",
        "\n",
        "matriz_2x5 = array_inteiros.reshape(2, 5) # Remodela o array para uma matriz 2x5\n",
        "\n",
        "print(\"Matriz remodelada 2x5:\") # Imprime a matriz remodelada\n",
        "print(matriz_2x5)"
      ],
      "metadata": {
        "colab": {
          "base_uri": "https://localhost:8080/"
        },
        "id": "gJRfjXbQ6md1",
        "outputId": "52bc9a93-2c2d-4a11-e1ab-e91de17099f8"
      },
      "execution_count": 60,
      "outputs": [
        {
          "output_type": "stream",
          "name": "stdout",
          "text": [
            "Forma do array original: (10,)\n",
            "Matriz remodelada 2x5:\n",
            "[[ 2  2  3  3  5]\n",
            " [ 5  7  7  9 11]]\n"
          ]
        }
      ]
    },
    {
      "cell_type": "markdown",
      "source": [
        "EXTRA:\n",
        "- Defina um array de 10 inteiros. Escreva um programa que extraia e imprima apenas os números pares do array usando indexação booleana."
      ],
      "metadata": {
        "id": "qNdHYPNn642W"
      }
    },
    {
      "cell_type": "code",
      "source": [
        "import numpy as np\n",
        "\n",
        "array_inteiros = np.array([1, 3, 3, 3, 1, 1, 1, 3, 1, 2]) # Define um array de 10 inteiros\n",
        "\n",
        "mascara_pares = (array_inteiros % 2 == 0) # Cria uma máscara booleana para identificar os números pares\n",
        "\n",
        "numeros_pares = array_inteiros[mascara_pares] # Usa a máscara para extrair os números pares\n",
        "\n",
        "print(\"Números pares:\", numeros_pares) # Imprime os números pares"
      ],
      "metadata": {
        "colab": {
          "base_uri": "https://localhost:8080/"
        },
        "id": "9wa2Yj1N67PF",
        "outputId": "fd4496be-19b9-4617-e43b-d2111389d190"
      },
      "execution_count": 61,
      "outputs": [
        {
          "output_type": "stream",
          "name": "stdout",
          "text": [
            "Números pares: [2]\n"
          ]
        }
      ]
    },
    {
      "cell_type": "markdown",
      "source": [
        "EXTRA:\n",
        "- Escreva um programa que calcule o produto escalar de dois arrays de inteiros usando numpy. Imprima o resultado."
      ],
      "metadata": {
        "id": "ShiqK0xm7ZD-"
      }
    },
    {
      "cell_type": "code",
      "source": [
        "import numpy as np\n",
        "\n",
        "array1 = np.array([1, 1, 1]) # Define dois arrays de inteiros\n",
        "array2 = np.array([1, 1, 1])\n",
        "\n",
        "produto_escalar = np.dot(array1, array2) # Calcula o produto escalar dos dois arrays\n",
        "\n",
        "print(\"Produto escalar dos arrays:\", produto_escalar) # Imprime o resultado"
      ],
      "metadata": {
        "colab": {
          "base_uri": "https://localhost:8080/"
        },
        "id": "gPHfV6Qf7bsr",
        "outputId": "d6c27212-b82d-4565-9b5a-6573eedcedb2"
      },
      "execution_count": 62,
      "outputs": [
        {
          "output_type": "stream",
          "name": "stdout",
          "text": [
            "Produto escalar dos arrays: 3\n"
          ]
        }
      ]
    },
    {
      "cell_type": "markdown",
      "source": [
        "EXTRA:\n",
        "- Crie uma matriz 2x3 usando numpy. Transponha a matriz e imprima a matriz transposta."
      ],
      "metadata": {
        "id": "4SCBRtV574wk"
      }
    },
    {
      "cell_type": "code",
      "source": [
        "import numpy as np\n",
        "\n",
        "matriz = np.array([[6, 6, 6], # Cria uma matriz 2x3\n",
        "                   [4, 4, 4]])\n",
        "\n",
        "matriz_transposta = np.transpose(matriz) # Transpõe a matriz\n",
        "\n",
        "print(\"Matriz transposta:\") # Imprime a matriz transposta\n",
        "print(matriz_transposta)"
      ],
      "metadata": {
        "colab": {
          "base_uri": "https://localhost:8080/"
        },
        "id": "l-vRZIfW76SU",
        "outputId": "16739101-3453-4c6b-9356-729aae5ecbef"
      },
      "execution_count": 63,
      "outputs": [
        {
          "output_type": "stream",
          "name": "stdout",
          "text": [
            "Matriz transposta:\n",
            "[[6 4]\n",
            " [6 4]\n",
            " [6 4]]\n"
          ]
        }
      ]
    },
    {
      "cell_type": "markdown",
      "source": [
        "EXTRA:\n",
        "\n",
        "Listas arrays - exercício.\n",
        "\n",
        "- faça um programa para calcular a média geométrica de um conjunto de n valores"
      ],
      "metadata": {
        "id": "c_iGJ8oM8bXE"
      }
    },
    {
      "cell_type": "code",
      "source": [
        "import numpy as np\n",
        "\n",
        "def media_geometrica(valores):\n",
        "\n",
        "    produto = np.prod(valores) # Calcula o produto dos valores\n",
        "\n",
        "    media_geom = produto ** (1 / len(valores)) # Calcula a média geométrica\n",
        "\n",
        "    return media_geom\n",
        "\n",
        "valores = [2, 4, 8, 16] # Exemplo de valores\n",
        "\n",
        "media = media_geometrica(valores) # Calcula a média geométrica\n",
        "\n",
        "print(\"Média geométrica dos valores:\", media) # Imprime o resultado"
      ],
      "metadata": {
        "colab": {
          "base_uri": "https://localhost:8080/"
        },
        "id": "Zbz0q8Bf8j_E",
        "outputId": "71650571-8e00-441a-90de-8ac53cc5e01d"
      },
      "execution_count": 65,
      "outputs": [
        {
          "output_type": "stream",
          "name": "stdout",
          "text": [
            "Média geométrica dos valores: 5.656854249492381\n"
          ]
        }
      ]
    }
  ]
}