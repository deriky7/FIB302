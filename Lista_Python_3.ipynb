{
  "nbformat": 4,
  "nbformat_minor": 0,
  "metadata": {
    "colab": {
      "provenance": [],
      "authorship_tag": "ABX9TyNRmCTDeJ0cz24yd9YzTHiX"
    },
    "kernelspec": {
      "name": "python3",
      "display_name": "Python 3"
    },
    "language_info": {
      "name": "python"
    }
  },
  "cells": [
    {
      "cell_type": "markdown",
      "source": [
        "Lista python - 3.\n",
        "\n",
        "Exercícios - Aula de controle de fluxo:\n",
        "\n",
        "1 - Faça um programa para calcular a sequencia de Fibonacci até 1000.\n",
        "\n"
      ],
      "metadata": {
        "id": "RveoIFkFDs82"
      }
    },
    {
      "cell_type": "code",
      "source": [
        "\n",
        "def fibonacci(limite): # Função para calcular a sequência de Fibonacci até um limite específico\n",
        "    fib_seq = [0, 1]  # Inicializa a sequência com os dois primeiros números de Fibonacci\n",
        "\n",
        "    while fib_seq[-1] + fib_seq[-2] <= limite: # Calcula os números de Fibonacci até atingir o limite\n",
        "        fib_seq.append(fib_seq[-1] + fib_seq[-2])\n",
        "\n",
        "    return fib_seq\n",
        "\n",
        "fibonacci_ate_1000 = fibonacci(1000) # Chama a função e imprime a sequência de Fibonacci até 1000\n",
        "print(\"Sequência de Fibonacci até 1000:\", fibonacci_ate_1000)\n"
      ],
      "metadata": {
        "colab": {
          "base_uri": "https://localhost:8080/"
        },
        "id": "xYwfM4bwETTw",
        "outputId": "892f976f-f813-475e-9b2f-bd42a26dea2f"
      },
      "execution_count": 15,
      "outputs": [
        {
          "output_type": "stream",
          "name": "stdout",
          "text": [
            "Sequência de Fibonacci até 1000: [0, 1, 1, 2, 3, 5, 8, 13, 21, 34, 55, 89, 144, 233, 377, 610, 987]\n"
          ]
        }
      ]
    },
    {
      "cell_type": "markdown",
      "source": [
        "2 - Usando o inicio de código abaixo, finalize o programa para encontrar o tempo em que o projetil passa de sua altura máxima:\n",
        "\n",
        "\n",
        "from numpy import linspace\n",
        "\n",
        "v0 = 4.5 # velocidade inicial\n",
        "\n",
        "g = 9.81 # aceleração da gravidade\n",
        "\n",
        "t = linspace(0, 1, 1000) # 1000 pontos do intervalo de tempo\n",
        "\n",
        "y = v0*t - 0.5*g*t**2 # calcula todas as alturas do lançamento\n",
        "\n",
        "ache quando a bola passa de y=0\n",
        "..."
      ],
      "metadata": {
        "id": "hE2n8W4SE1km"
      }
    },
    {
      "cell_type": "code",
      "source": [
        "from numpy import linspace\n",
        "import numpy as np\n",
        "\n",
        "v0 = 4.5  # velocidade inicial\n",
        "g = 9.81  # aceleração da gravidade\n",
        "t = linspace(0, 1, 1000)  # 1000 pontos do intervalo de tempo\n",
        "y = v0 * t - 0.5 * g * t**2  # calcula todas as alturas do lançamento\n",
        "\n",
        "# Encontrar quando a bola passa pela altura máxima\n",
        "\n",
        "derivada_y = v0 - g * t # Derivada da equação de altura em relação ao tempo\n",
        "\n",
        "# Encontrar o tempo quando a derivada é igual a zero\n",
        "tempo_max_altura = t[np.argmin(np.abs(derivada_y))]  # Índice do tempo quando a derivada é mínima\n",
        "\n",
        "print(\"O projétil passa pela altura máxima em t =\", tempo_max_altura, \"segundos.\")\n"
      ],
      "metadata": {
        "colab": {
          "base_uri": "https://localhost:8080/"
        },
        "id": "xB5jLnEVE6HF",
        "outputId": "4244274b-a626-47ff-c027-5f53b4e74f41"
      },
      "execution_count": 16,
      "outputs": [
        {
          "output_type": "stream",
          "name": "stdout",
          "text": [
            "O projétil passa pela altura máxima em t = 0.45845845845845845 segundos.\n"
          ]
        }
      ]
    },
    {
      "cell_type": "markdown",
      "source": [
        "3 - Faça um programa que peça um numero ao usuário e identifique se o numero é par ou ímpar"
      ],
      "metadata": {
        "id": "W7GoDRxRFeIQ"
      }
    },
    {
      "cell_type": "code",
      "source": [
        "\n",
        "numero = int(input(\"Digite um número: \")) # Pedir ao usuário para inserir um número\n",
        "\n",
        "if numero % 2 == 0: # Verificar se o número é par ou ímpar\n",
        "    print(numero, \"é um número par.\")\n",
        "else:\n",
        "    print(numero, \"é um número ímpar.\")\n"
      ],
      "metadata": {
        "colab": {
          "base_uri": "https://localhost:8080/"
        },
        "id": "NRniZvXXFhrP",
        "outputId": "be3145ac-c02d-4b22-a982-7441ae1d21ca"
      },
      "execution_count": 17,
      "outputs": [
        {
          "output_type": "stream",
          "name": "stdout",
          "text": [
            "Digite um número: 47\n",
            "47 é um número ímpar.\n"
          ]
        }
      ]
    },
    {
      "cell_type": "markdown",
      "source": [
        "Exercícios - Aula de loops de for\n",
        "\n",
        "1 - Faça um programa que calcule a somatória:\n",
        "\n",
        "\\sum_{n=1}^{100} \\frac{1}{n}"
      ],
      "metadata": {
        "id": "szFSr-uALzGC"
      }
    },
    {
      "cell_type": "code",
      "source": [
        "soma = 0\n",
        "\n",
        "for n in range(1, 101): # Loop de 1 a 100\n",
        "    soma += 1 / n\n",
        "\n",
        "print(\"A soma da série é:\", soma)\n"
      ],
      "metadata": {
        "colab": {
          "base_uri": "https://localhost:8080/"
        },
        "id": "ZpQYdLBgMnj7",
        "outputId": "4d7360d7-60f3-4513-c989-53544471ab10"
      },
      "execution_count": 18,
      "outputs": [
        {
          "output_type": "stream",
          "name": "stdout",
          "text": [
            "A soma da série é: 5.187377517639621\n"
          ]
        }
      ]
    },
    {
      "cell_type": "markdown",
      "source": [
        "Exercícios da Lista python 3:\n",
        "\n",
        "1 - Escreva um programa que peça um número ao usuário e imprima se ele é par ou ímpar."
      ],
      "metadata": {
        "id": "Oay4TlOQNAUa"
      }
    },
    {
      "cell_type": "code",
      "source": [
        "\n",
        "numero = int(input(\"Digite um número: \")) # Pedir ao usuário para inserir um número\n",
        "\n",
        "if numero % 2 == 0: # Verificar se o número é par ou ímpar e imprimir o resultado\n",
        "    print(\"O número\", numero, \"é par.\")\n",
        "else:\n",
        "    print(\"O número\", numero, \"é ímpar.\")\n"
      ],
      "metadata": {
        "colab": {
          "base_uri": "https://localhost:8080/"
        },
        "id": "_WBK_BfMNEIK",
        "outputId": "6a7ad578-baaa-4e96-e5c9-e41a24acc046"
      },
      "execution_count": 19,
      "outputs": [
        {
          "output_type": "stream",
          "name": "stdout",
          "text": [
            "Digite um número: 89\n",
            "O número 89 é ímpar.\n"
          ]
        }
      ]
    },
    {
      "cell_type": "markdown",
      "source": [
        "2 - Escreva um programa que peça ao usuário uma nota (0-100) e imprima se for \"Aprovado\" (>=60) ou \"Reprovado\" (<60)."
      ],
      "metadata": {
        "id": "wWtF1gMONSyz"
      }
    },
    {
      "cell_type": "code",
      "source": [
        "\n",
        "nota = float(input(\"Digite a nota (0-100): \")) # Pedir ao usuário para inserir uma nota\n",
        "\n",
        "if nota >= 60: # Verificar se a nota é maior ou igual a 60\n",
        "    print(\"Aprovado\")\n",
        "else:\n",
        "    print(\"Reprovado\")\n"
      ],
      "metadata": {
        "colab": {
          "base_uri": "https://localhost:8080/"
        },
        "id": "fRM3Ce61NTXz",
        "outputId": "30897d64-c4a8-4274-9fe2-db073592110c"
      },
      "execution_count": 6,
      "outputs": [
        {
          "output_type": "stream",
          "name": "stdout",
          "text": [
            "Digite a nota (0-100): 76\n",
            "Aprovado\n"
          ]
        }
      ]
    },
    {
      "cell_type": "markdown",
      "source": [
        "3 - Escreva um programa que gere um número aleatório entre 1 e 100. Peça ao usuário para adivinhar o número. Continue avisando o usuário até que ele adivinhe corretamente. Forneça feedback se a estimativa for muito alta ou muito baixa."
      ],
      "metadata": {
        "id": "l2bHoQjVNe6s"
      }
    },
    {
      "cell_type": "code",
      "source": [
        "import random\n",
        "\n",
        "numero_secreto = random.randint(1, 100) # Gerar um número aleatório entre 1 e 100\n",
        "\n",
        "tentativa = 0 # Inicializar a variável para armazenar a tentativa do usuário\n",
        "\n",
        "while True: # Loop para continuar pedindo ao usuário para adivinhar até que ele adivinhe corretamente\n",
        "\n",
        "    palpite = int(input(\"Adivinhe o número (entre 1 e 100): \"))     # Pedir ao usuário para adivinhar o número\n",
        "\n",
        "    tentativa += 1     # Incrementar o contador de tentativas\n",
        "\n",
        "    if palpite == numero_secreto:     # Verificar se o palpite do usuário está correto\n",
        "        print(\"Parabéns! Você acertou o número em\", tentativa, \"tentativas.\")\n",
        "        break\n",
        "    elif palpite < numero_secreto:\n",
        "        print(\"Muito baixo! Tente novamente.\")\n",
        "    else:\n",
        "        print(\"Muito alto! Tente novamente.\")\n"
      ],
      "metadata": {
        "colab": {
          "base_uri": "https://localhost:8080/"
        },
        "id": "bvk0YXXtNfdq",
        "outputId": "d1366b4e-2968-481f-efcb-84f7a5c09df8"
      },
      "execution_count": 20,
      "outputs": [
        {
          "output_type": "stream",
          "name": "stdout",
          "text": [
            "Adivinhe o número (entre 1 e 100): 98\n",
            "Muito alto! Tente novamente.\n",
            "Adivinhe o número (entre 1 e 100): 34\n",
            "Muito baixo! Tente novamente.\n",
            "Adivinhe o número (entre 1 e 100): 56\n",
            "Muito baixo! Tente novamente.\n",
            "Adivinhe o número (entre 1 e 100): 70\n",
            "Muito baixo! Tente novamente.\n",
            "Adivinhe o número (entre 1 e 100): 86\n",
            "Muito alto! Tente novamente.\n",
            "Adivinhe o número (entre 1 e 100): 76\n",
            "Muito baixo! Tente novamente.\n",
            "Adivinhe o número (entre 1 e 100): 79\n",
            "Parabéns! Você acertou o número em 7 tentativas.\n"
          ]
        }
      ]
    },
    {
      "cell_type": "markdown",
      "source": [
        "4 - Escreva um programa que peça ao usuário um número inteiro positivo e calcule seu fatorial usando um loop while."
      ],
      "metadata": {
        "id": "mG3VNXlMOl8E"
      }
    },
    {
      "cell_type": "code",
      "source": [
        "\n",
        "numero = int(input(\"Digite um número inteiro positivo: \")) # Pedir ao usuário para inserir um número inteiro positivo\n",
        "\n",
        "if numero < 0:  # Verificar se o número é positivo\n",
        "    print(\"O número deve ser positivo.\")\n",
        "else:\n",
        "    fatorial = 1 # Inicializar o fatorial como 1\n",
        "\n",
        "    i = 1 # Calcular o fatorial usando um loop while\n",
        "    while i <= numero:\n",
        "        fatorial *= i\n",
        "        i += 1\n",
        "\n",
        "    # Imprimir o resultado\n",
        "    print(\"O fatorial de\", numero, \"é\", fatorial)\n"
      ],
      "metadata": {
        "colab": {
          "base_uri": "https://localhost:8080/"
        },
        "id": "7gKeDPOQOmfM",
        "outputId": "a4a3e90f-39ab-4feb-a90c-c86d556c8672"
      },
      "execution_count": 10,
      "outputs": [
        {
          "output_type": "stream",
          "name": "stdout",
          "text": [
            "Digite um número inteiro positivo: 3\n",
            "O fatorial de 3 é 6\n"
          ]
        }
      ]
    },
    {
      "cell_type": "markdown",
      "source": [
        "5 - Escreva um programa que peça uma string ao usuário e verifique se é um palíndromo."
      ],
      "metadata": {
        "id": "_DLR7qN0SfOX"
      }
    },
    {
      "cell_type": "code",
      "source": [
        "\n",
        "string = input(\"Digite uma string: \") # Pedir ao usuário para inserir uma string\n",
        "\n",
        "string = string.replace(\" \", \"\").lower() # Remover espaços em branco e converter a string para minúsculas\n",
        "\n",
        "if string == string[::-1]: # Verificar se a string é um palíndromo\n",
        "    print(\"A string é um palíndromo.\")\n",
        "else:\n",
        "    print(\"A string não é um palíndromo.\")\n"
      ],
      "metadata": {
        "colab": {
          "base_uri": "https://localhost:8080/"
        },
        "id": "EkmPhzobSf-W",
        "outputId": "b9a00da4-cf57-4413-bb78-421fa34a023c"
      },
      "execution_count": 21,
      "outputs": [
        {
          "output_type": "stream",
          "name": "stdout",
          "text": [
            "Digite uma string: ovo\n",
            "A string é um palíndromo.\n"
          ]
        }
      ]
    },
    {
      "cell_type": "markdown",
      "source": [
        "6 - Escreva um programa que peça um número ao usuário e verifique se é um número primo."
      ],
      "metadata": {
        "id": "QC43s1jUTC2e"
      }
    },
    {
      "cell_type": "code",
      "source": [
        "\n",
        "def verificar_primo(numero): # Função para verificar se um número é primo\n",
        "\n",
        "    if numero < 2: # Números menores que 2 não são primos\n",
        "        return False\n",
        "\n",
        "    for i in range(2, int(numero ** 0.5) + 1):     # Verificar se o número é divisível por algum número além de 1 e ele mesmo\n",
        "        if numero % i == 0:\n",
        "            return False\n",
        "\n",
        "    return True\n",
        "\n",
        "numero = int(input(\"Digite um número inteiro positivo: \")) # Pedir ao usuário para inserir um número\n",
        "\n",
        "if verificar_primo(numero): # Verificar se o número é primo e imprimir o resultado\n",
        "    print(numero, \"é um número primo.\")\n",
        "else:\n",
        "    print(numero, \"não é um número primo.\")\n"
      ],
      "metadata": {
        "colab": {
          "base_uri": "https://localhost:8080/"
        },
        "id": "5FBdHwzmTDdd",
        "outputId": "9590a32b-125f-4acc-8594-8e628ac4b044"
      },
      "execution_count": 23,
      "outputs": [
        {
          "output_type": "stream",
          "name": "stdout",
          "text": [
            "Digite um número inteiro positivo: 17\n",
            "17 é um número primo.\n"
          ]
        }
      ]
    }
  ]
}