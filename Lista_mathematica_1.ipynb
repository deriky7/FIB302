{
  "nbformat": 4,
  "nbformat_minor": 0,
  "metadata": {
    "colab": {
      "provenance": [],
      "authorship_tag": "ABX9TyOLb/JU2jdkF9yna+zU6SE6",
      "include_colab_link": true
    },
    "kernelspec": {
      "name": "python3",
      "display_name": "Python 3"
    },
    "language_info": {
      "name": "python"
    }
  },
  "cells": [
    {
      "cell_type": "markdown",
      "metadata": {
        "id": "view-in-github",
        "colab_type": "text"
      },
      "source": [
        "<a href=\"https://colab.research.google.com/github/deriky7/FIB302/blob/main/Lista_mathematica_1.ipynb\" target=\"_parent\"><img src=\"https://colab.research.google.com/assets/colab-badge.svg\" alt=\"Open In Colab\"/></a>"
      ]
    },
    {
      "cell_type": "markdown",
      "source": [
        "Atividade - Lista Mathematica 1.\n",
        "\n",
        "1.1 - Compute 1+2+3.\n",
        "\n"
      ],
      "metadata": {
        "id": "_2fNaPHhmiV2"
      }
    },
    {
      "cell_type": "code",
      "source": [
        "1+2+3"
      ],
      "metadata": {
        "colab": {
          "base_uri": "https://localhost:8080/"
        },
        "id": "tzqAr6lfm0gA",
        "outputId": "660f0a31-53f0-4732-f9ab-33acbf96dd68"
      },
      "execution_count": null,
      "outputs": [
        {
          "output_type": "execute_result",
          "data": {
            "text/plain": [
              "6"
            ]
          },
          "metadata": {},
          "execution_count": 1
        }
      ]
    },
    {
      "cell_type": "markdown",
      "source": [
        "1.2 - Add the numbers 1,2,3,4,5\n"
      ],
      "metadata": {
        "id": "xko7Hp-am8bz"
      }
    },
    {
      "cell_type": "code",
      "source": [
        "1+2+3+4+5"
      ],
      "metadata": {
        "colab": {
          "base_uri": "https://localhost:8080/"
        },
        "id": "FZF1sFXDnBUi",
        "outputId": "b0ff949c-e49f-4d7e-ae08-2e8fe2436250"
      },
      "execution_count": null,
      "outputs": [
        {
          "output_type": "execute_result",
          "data": {
            "text/plain": [
              "15"
            ]
          },
          "metadata": {},
          "execution_count": 2
        }
      ]
    },
    {
      "cell_type": "markdown",
      "source": [
        "1.3 - Multiply the numbers 1,2,3,4,5.\n"
      ],
      "metadata": {
        "id": "x4RO48oknLKC"
      }
    },
    {
      "cell_type": "code",
      "source": [
        "1*2*3*4*5"
      ],
      "metadata": {
        "colab": {
          "base_uri": "https://localhost:8080/"
        },
        "id": "GwIKYCp0nQr_",
        "outputId": "d952404d-a472-459a-b4bf-0e4bb45d73fb"
      },
      "execution_count": null,
      "outputs": [
        {
          "output_type": "execute_result",
          "data": {
            "text/plain": [
              "120"
            ]
          },
          "metadata": {},
          "execution_count": 3
        }
      ]
    },
    {
      "cell_type": "markdown",
      "source": [
        "1.4 - Compute 5 squared (i.e. 5×5 or 5 raised to thepower 2)."
      ],
      "metadata": {
        "id": "NmUcwKnvnTkV"
      }
    },
    {
      "cell_type": "code",
      "source": [
        "5*5"
      ],
      "metadata": {
        "colab": {
          "base_uri": "https://localhost:8080/"
        },
        "id": "2LxeX9-OnYSP",
        "outputId": "59bd99e5-cbd8-4213-85eb-d87dd7059db3"
      },
      "execution_count": null,
      "outputs": [
        {
          "output_type": "execute_result",
          "data": {
            "text/plain": [
              "25"
            ]
          },
          "metadata": {},
          "execution_count": 6
        }
      ]
    },
    {
      "cell_type": "code",
      "source": [
        "5**2 # Observação: Em mathematica a simbologia para potênciação é denotada por: \"^\". Como esta atividade é para ser postada no github, uso a simbologia em python para resolução do mesmo exercício."
      ],
      "metadata": {
        "colab": {
          "base_uri": "https://localhost:8080/"
        },
        "id": "u7TCnRCPoLpj",
        "outputId": "0aabd9e6-0b1b-448b-d855-2ff6a6fffed9"
      },
      "execution_count": null,
      "outputs": [
        {
          "output_type": "execute_result",
          "data": {
            "text/plain": [
              "25"
            ]
          },
          "metadata": {},
          "execution_count": 10
        }
      ]
    },
    {
      "cell_type": "markdown",
      "source": [
        "1.5 - Compute 3 raised to the fourth power."
      ],
      "metadata": {
        "id": "noZkyuzgnaD-"
      }
    },
    {
      "cell_type": "code",
      "source": [
        "3**4"
      ],
      "metadata": {
        "colab": {
          "base_uri": "https://localhost:8080/"
        },
        "id": "1U7ng1vCnc5_",
        "outputId": "1832e789-e131-4719-99d4-5404a3277dfc"
      },
      "execution_count": null,
      "outputs": [
        {
          "output_type": "execute_result",
          "data": {
            "text/plain": [
              "81"
            ]
          },
          "metadata": {},
          "execution_count": 9
        }
      ]
    },
    {
      "cell_type": "markdown",
      "source": [
        "1.6 - Compute 10r aised to the power 12 (atrillion)"
      ],
      "metadata": {
        "id": "Q3ibLC6Infm5"
      }
    },
    {
      "cell_type": "code",
      "source": [
        "10**12"
      ],
      "metadata": {
        "colab": {
          "base_uri": "https://localhost:8080/"
        },
        "id": "iRVvLtqEnimV",
        "outputId": "0936466e-cba1-4a72-89f6-b33bfca6f3b5"
      },
      "execution_count": null,
      "outputs": [
        {
          "output_type": "execute_result",
          "data": {
            "text/plain": [
              "1000000000000"
            ]
          },
          "metadata": {},
          "execution_count": 11
        }
      ]
    },
    {
      "cell_type": "markdown",
      "source": [
        "1.7 - Compute 3 raised to the power 7×8."
      ],
      "metadata": {
        "id": "JFIWpxO4nkcU"
      }
    },
    {
      "cell_type": "code",
      "source": [
        "3**(7*8)"
      ],
      "metadata": {
        "colab": {
          "base_uri": "https://localhost:8080/"
        },
        "id": "GqHBiL0lnoDK",
        "outputId": "d2cbb67a-e442-4007-d8b4-efbdf6fa5273"
      },
      "execution_count": null,
      "outputs": [
        {
          "output_type": "execute_result",
          "data": {
            "text/plain": [
              "523347633027360537213511521"
            ]
          },
          "metadata": {},
          "execution_count": 12
        }
      ]
    },
    {
      "cell_type": "markdown",
      "source": [
        "1.8 - Add parentheses to 4-2*3+4 tomake it 14"
      ],
      "metadata": {
        "id": "lDxAu8i1npsY"
      }
    },
    {
      "cell_type": "code",
      "source": [
        "(4-2)*(3+4)"
      ],
      "metadata": {
        "colab": {
          "base_uri": "https://localhost:8080/"
        },
        "id": "FE2IGMlhnskh",
        "outputId": "34fb16b3-0b33-445b-bd3a-0d26853844f7"
      },
      "execution_count": null,
      "outputs": [
        {
          "output_type": "execute_result",
          "data": {
            "text/plain": [
              "14"
            ]
          },
          "metadata": {},
          "execution_count": 13
        }
      ]
    },
    {
      "cell_type": "markdown",
      "source": [
        "1.9 - Compute twenty-ninethousand multiplied by seventy-three."
      ],
      "metadata": {
        "id": "0-QO7_GQnuWN"
      }
    },
    {
      "cell_type": "code",
      "source": [
        "29000*73"
      ],
      "metadata": {
        "colab": {
          "base_uri": "https://localhost:8080/"
        },
        "id": "VYe1tAcUnwQz",
        "outputId": "790851c2-3297-4a16-9e5b-6264ac77759f"
      },
      "execution_count": null,
      "outputs": [
        {
          "output_type": "execute_result",
          "data": {
            "text/plain": [
              "2117000"
            ]
          },
          "metadata": {},
          "execution_count": 15
        }
      ]
    },
    {
      "cell_type": "markdown",
      "source": [
        "Parte 2 da lista 1 de mathematica.\n",
        "\n",
        "2.1 - Compute 7+6+5 using the function Plus."
      ],
      "metadata": {
        "id": "AIbe4_XwpYQ_"
      }
    },
    {
      "cell_type": "code",
      "source": [
        "# Plus[7, 6, 5]\n",
        "# 18"
      ],
      "metadata": {
        "id": "I_a7cfWWpjO2"
      },
      "execution_count": null,
      "outputs": []
    },
    {
      "cell_type": "markdown",
      "source": [
        "2.2 - Compute 2×(3+4) using Times and Plus.\n"
      ],
      "metadata": {
        "id": "QbhTAJDQqFaG"
      }
    },
    {
      "cell_type": "code",
      "source": [
        "# Times[2, Plus[3, 4]]\n",
        "# 14"
      ],
      "metadata": {
        "id": "3InKmsMQqLXg"
      },
      "execution_count": null,
      "outputs": []
    },
    {
      "cell_type": "markdown",
      "source": [
        "2.3 -  Use Max to find the larger of 6×8 and 5×9."
      ],
      "metadata": {
        "id": "a0iN9o9kqSeE"
      }
    },
    {
      "cell_type": "code",
      "source": [
        "# Max[Times[6, 8], Times[5, 9]]\n",
        "# 48"
      ],
      "metadata": {
        "id": "IQCN_lCSqb3E"
      },
      "execution_count": null,
      "outputs": []
    },
    {
      "cell_type": "markdown",
      "source": [
        "2.4 - Use RandomInteger to generate arandom integer between 0 and 1000."
      ],
      "metadata": {
        "id": "smY1LGHXqf52"
      }
    },
    {
      "cell_type": "code",
      "source": [
        "# RandomInteger[1000]\n",
        "# 390"
      ],
      "metadata": {
        "id": "4ktP2gIErPID"
      },
      "execution_count": null,
      "outputs": []
    },
    {
      "cell_type": "markdown",
      "source": [
        "2.5 - Use Plus and RandomInteger to generate arandom integer between 10 and 20"
      ],
      "metadata": {
        "id": "VtoEU-QJrQJv"
      }
    },
    {
      "cell_type": "code",
      "source": [
        "# Plus[10, RandomInteger[10]]\n",
        "# 12"
      ],
      "metadata": {
        "id": "oXlm03PdraPb"
      },
      "execution_count": null,
      "outputs": []
    }
  ]
}