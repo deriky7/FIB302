{
  "nbformat": 4,
  "nbformat_minor": 0,
  "metadata": {
    "colab": {
      "provenance": [],
      "authorship_tag": "ABX9TyO2ViEwYTCu9QQPLiL/PebZ"
    },
    "kernelspec": {
      "name": "python3",
      "display_name": "Python 3"
    },
    "language_info": {
      "name": "python"
    }
  },
  "cells": [
    {
      "cell_type": "markdown",
      "source": [
        "Lista mathematica 2.\n",
        "\n",
        "\n",
        "3.1 - Use Range to create the list {1,2,3,4}\n"
      ],
      "metadata": {
        "id": "OEtCGgg7xnZI"
      }
    },
    {
      "cell_type": "code",
      "source": [
        "# Range[4]\n",
        "# {1, 2, 3, 4}"
      ],
      "metadata": {
        "id": "JRtODJBryaBi"
      },
      "execution_count": null,
      "outputs": []
    },
    {
      "cell_type": "markdown",
      "source": [
        "3.2 - Make a list of consecutive integers up to 100."
      ],
      "metadata": {
        "id": "gnXPhUigyj5d"
      }
    },
    {
      "cell_type": "code",
      "source": [
        "# Range[1, 100]"
      ],
      "metadata": {
        "id": "Nn7sG7B0yuN2"
      },
      "execution_count": null,
      "outputs": []
    },
    {
      "cell_type": "markdown",
      "source": [
        "3.3 - Use Range and Reverse to create {4,3,2,1}."
      ],
      "metadata": {
        "id": "imk4FQVKzIFT"
      }
    },
    {
      "cell_type": "code",
      "source": [
        "# Reverse[Range[1, 4]]\n"
      ],
      "metadata": {
        "id": "Znb0eickzNHJ"
      },
      "execution_count": null,
      "outputs": []
    },
    {
      "cell_type": "markdown",
      "source": [
        "3.4 - Make a list of integers from 1 to 50 inreverse order."
      ],
      "metadata": {
        "id": "uqTJwpdrzamQ"
      }
    },
    {
      "cell_type": "code",
      "source": [
        "# Reverse[Range[1, 50]]\n"
      ],
      "metadata": {
        "id": "NaM6Lvckznv-"
      },
      "execution_count": null,
      "outputs": []
    },
    {
      "cell_type": "markdown",
      "source": [
        "3.5 - Use Range,Reverse and Join to create {1,2,3,4,4,3,2,1}."
      ],
      "metadata": {
        "id": "SgeLNeP8zohW"
      }
    },
    {
      "cell_type": "code",
      "source": [
        "# Join[Range[1, 4], Reverse[Range[1, 4]]]\n"
      ],
      "metadata": {
        "id": "Ma2t1Xyxz68M"
      },
      "execution_count": null,
      "outputs": []
    },
    {
      "cell_type": "markdown",
      "source": [
        "3.6 - Plot a list that counts up from 1 to 100,thendown to 1."
      ],
      "metadata": {
        "id": "6-utSHddz7y4"
      }
    },
    {
      "cell_type": "code",
      "source": [
        "# ListLinePlot[Join[Range[1, 100], Reverse[Range[1, 100]]]]\n"
      ],
      "metadata": {
        "id": "HZrKBws40LBu"
      },
      "execution_count": null,
      "outputs": []
    },
    {
      "cell_type": "markdown",
      "source": [
        "3.7 - Use Range and RandomInteger to make a list with a random lengt hup to 10."
      ],
      "metadata": {
        "id": "8W8jg21a0MQG"
      }
    },
    {
      "cell_type": "code",
      "source": [
        "# Range[RandomInteger[10]]"
      ],
      "metadata": {
        "id": "LrFWSA3h0Nze"
      },
      "execution_count": null,
      "outputs": []
    },
    {
      "cell_type": "markdown",
      "source": [
        "3.8 - Find  a simpler form for Reverse[Reverse[Range[10]]]."
      ],
      "metadata": {
        "id": "VWPL3lQg09-r"
      }
    },
    {
      "cell_type": "code",
      "source": [
        "# Range[10]"
      ],
      "metadata": {
        "id": "Nh9E35NCfTgX"
      },
      "execution_count": null,
      "outputs": []
    },
    {
      "cell_type": "markdown",
      "source": [
        "3.9 - Find a simpler form for Join[{1,2},Join[{3,4},{5}]]."
      ],
      "metadata": {
        "id": "DJF9TL-efnJD"
      }
    },
    {
      "cell_type": "code",
      "source": [
        "# Join[{1, 2}, {3, 4, 5}]\n"
      ],
      "metadata": {
        "id": "8BhSz9qxfw85"
      },
      "execution_count": null,
      "outputs": []
    },
    {
      "cell_type": "markdown",
      "source": [
        "3.10 - Find a simpler form for Join[Range[10],Join[Range[10],Range[5]]]"
      ],
      "metadata": {
        "id": "ohneLN7Xf9j0"
      }
    },
    {
      "cell_type": "code",
      "source": [
        "# Join[Range[10], Range[10], Range[5]]\n"
      ],
      "metadata": {
        "id": "v7DLWA6RgkUi"
      },
      "execution_count": null,
      "outputs": []
    },
    {
      "cell_type": "markdown",
      "source": [
        "3.11 - Find a simpler form for Reverse[Join[Range[20],Reverse[Range[20]]]]"
      ],
      "metadata": {
        "id": "56vBKCzXgkiT"
      }
    },
    {
      "cell_type": "code",
      "source": [
        "# Range[20] ~Join~ Range[20, 1, -1]"
      ],
      "metadata": {
        "id": "vfBRUrO1gpCm"
      },
      "execution_count": null,
      "outputs": []
    },
    {
      "cell_type": "markdown",
      "source": [
        "4.1 - Make a bar chart of {1,1,2,3,5}."
      ],
      "metadata": {
        "id": "M4ZfH4lMp3H8"
      }
    },
    {
      "cell_type": "code",
      "source": [
        "# BarChart[{1, 1, 2, 3, 5}]\n"
      ],
      "metadata": {
        "id": "U7FRu0vVqBIk"
      },
      "execution_count": null,
      "outputs": []
    },
    {
      "cell_type": "markdown",
      "source": [
        "4.2 - Make a pie chart of numbers from 1 to 10."
      ],
      "metadata": {
        "id": "mGGJZh_tqLSz"
      }
    },
    {
      "cell_type": "code",
      "source": [
        "# PieChart[Range[1, 10]]\n"
      ],
      "metadata": {
        "id": "UWwfqUkkqaQr"
      },
      "execution_count": null,
      "outputs": []
    },
    {
      "cell_type": "markdown",
      "source": [
        "4.3 - Make a bar chart of numbers counting down from 20 to 1."
      ],
      "metadata": {
        "id": "zlivDhCtqbWC"
      }
    },
    {
      "cell_type": "code",
      "source": [
        "# BarChart[Range[20, 1, -1]]\n"
      ],
      "metadata": {
        "id": "DAF5_isFqnyO"
      },
      "execution_count": null,
      "outputs": []
    },
    {
      "cell_type": "markdown",
      "source": [
        "4.4 - Display numbers from 1 to 5 in a column."
      ],
      "metadata": {
        "id": "h-Np4DmfqxQg"
      }
    },
    {
      "cell_type": "code",
      "source": [
        "# Column[Range[1, 5]]\n"
      ],
      "metadata": {
        "id": "x7gSJPicq4Eb"
      },
      "execution_count": null,
      "outputs": []
    },
    {
      "cell_type": "markdown",
      "source": [
        "4.5 - Make a number line plot of the squares {1,4,9,16,25}.\n"
      ],
      "metadata": {
        "id": "3YeaPVkGrAMO"
      }
    },
    {
      "cell_type": "code",
      "source": [
        "# NumberLinePlot[{1, 4, 9, 16, 25}]\n"
      ],
      "metadata": {
        "id": "pecieX0mrKA2"
      },
      "execution_count": null,
      "outputs": []
    },
    {
      "cell_type": "markdown",
      "source": [
        "4.6 - Make a pie chart with 10 identical segments,each of size 1."
      ],
      "metadata": {
        "id": "JNEh8bdGrVC0"
      }
    },
    {
      "cell_type": "code",
      "source": [
        "# PieChart[ConstantArray[1, 10]]\n"
      ],
      "metadata": {
        "id": "KO7xY1EwrkzS"
      },
      "execution_count": null,
      "outputs": []
    },
    {
      "cell_type": "markdown",
      "source": [
        "4.7 - Make a column of pie chart swith 1,2 and 3 identical segments."
      ],
      "metadata": {
        "id": "MyHS2agUrs2z"
      }
    },
    {
      "cell_type": "code",
      "source": [
        "# Column[{PieChart[ConstantArray[1, 1]], PieChart[ConstantArray[1, 2]], PieChart[ConstantArray[1, 3]]}]\n"
      ],
      "metadata": {
        "id": "VyeFNF1JsBGe"
      },
      "execution_count": null,
      "outputs": []
    }
  ]
}