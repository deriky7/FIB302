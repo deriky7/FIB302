{
  "nbformat": 4,
  "nbformat_minor": 0,
  "metadata": {
    "colab": {
      "provenance": [],
      "authorship_tag": "ABX9TyO25QM3EWENhkqDXJNUwW9U"
    },
    "kernelspec": {
      "name": "python3",
      "display_name": "Python 3"
    },
    "language_info": {
      "name": "python"
    }
  },
  "cells": [
    {
      "cell_type": "markdown",
      "source": [
        "Lista mathematica 3.\n",
        "\n",
        "5.1 - Make a list of the first 10 squares, in reverse order."
      ],
      "metadata": {
        "id": "OulAD9Cx_3nu"
      }
    },
    {
      "cell_type": "code",
      "source": [
        "# Reverse[Table[n^2, {n, 10}]]\n"
      ],
      "metadata": {
        "id": "WtZ1vFD4Bsoa"
      },
      "execution_count": null,
      "outputs": []
    },
    {
      "cell_type": "markdown",
      "source": [
        "5.2 - Find the to tal of the first 10 squares."
      ],
      "metadata": {
        "id": "V4dl-SoKBuAW"
      }
    },
    {
      "cell_type": "code",
      "source": [
        "# Sum[n^2, {n, 1, 10}]\n"
      ],
      "metadata": {
        "id": "Px_TZs_cCLV_"
      },
      "execution_count": null,
      "outputs": []
    },
    {
      "cell_type": "markdown",
      "source": [
        "5.3 - Makeaplotofthefirst10squares,startingat1."
      ],
      "metadata": {
        "id": "c6-kHNs1Cf_U"
      }
    },
    {
      "cell_type": "code",
      "source": [
        "# ListPlot[Range[10]^2]\n"
      ],
      "metadata": {
        "id": "H-COmNPvCjP7"
      },
      "execution_count": null,
      "outputs": []
    },
    {
      "cell_type": "markdown",
      "source": [
        "5.4 - Makealistofthefirst10multiplesof3"
      ],
      "metadata": {
        "id": "i0uV93_HCje-"
      }
    },
    {
      "cell_type": "code",
      "source": [
        "# Table[3 * n, {n, 1, 10}]\n"
      ],
      "metadata": {
        "id": "rzmJWyPoCmaJ"
      },
      "execution_count": null,
      "outputs": []
    },
    {
      "cell_type": "markdown",
      "source": [
        "5.5 - UseSort,JoinandRangetocreate{1,1,2,2,3,3,4,4,}."
      ],
      "metadata": {
        "id": "1cTQQPyDCmho"
      }
    },
    {
      "cell_type": "code",
      "source": [
        "# Sort[Join[Range[1, 4], Range[1, 4]]]\n"
      ],
      "metadata": {
        "id": "XeLeQKkvCrAX"
      },
      "execution_count": null,
      "outputs": []
    },
    {
      "cell_type": "markdown",
      "source": [
        "5.6 - UseRangeand+tomakealistofnumbersfrom10to20,inclusive."
      ],
      "metadata": {
        "id": "WfKBIQumCrHl"
      }
    },
    {
      "cell_type": "code",
      "source": [
        "# Range[10, 20]\n"
      ],
      "metadata": {
        "id": "jgsTKZCYCvZR"
      },
      "execution_count": null,
      "outputs": []
    },
    {
      "cell_type": "markdown",
      "source": [
        "5.7 - Makealistofthefirst10squaresusingonlyRangeandTimes."
      ],
      "metadata": {
        "id": "JoUa5Yz6CvgQ"
      }
    },
    {
      "cell_type": "code",
      "source": [
        "# Range[10]^2\n"
      ],
      "metadata": {
        "id": "eWS3lGkVCzOb"
      },
      "execution_count": null,
      "outputs": []
    },
    {
      "cell_type": "markdown",
      "source": [
        "5.8 - Makeacombinedlistofthefirst5squaresandcubes(numbersraisedtothepower3),sortedintoorder."
      ],
      "metadata": {
        "id": "RpxVot_NCzUu"
      }
    },
    {
      "cell_type": "code",
      "source": [
        "# Sort[Join[Range[5]^2, Range[5]^3]]\n"
      ],
      "metadata": {
        "id": "VUmdAB1OC2mL"
      },
      "execution_count": null,
      "outputs": []
    },
    {
      "cell_type": "markdown",
      "source": [
        "5.9 - Findthenumberofdigitsin2^128."
      ],
      "metadata": {
        "id": "99zhK3qxC2sA"
      }
    },
    {
      "cell_type": "code",
      "source": [
        "# IntegerLength[2^128]\n"
      ],
      "metadata": {
        "id": "5RKh2k98C6iK"
      },
      "execution_count": null,
      "outputs": []
    },
    {
      "cell_type": "markdown",
      "source": [
        "5.10 - Findthefirstdigitof2^32."
      ],
      "metadata": {
        "id": "vVT-PIUGC6pw"
      }
    },
    {
      "cell_type": "code",
      "source": [
        "# First[IntegerDigits[2^32]]\n"
      ],
      "metadata": {
        "id": "MsesC8BhDCpg"
      },
      "execution_count": null,
      "outputs": []
    },
    {
      "cell_type": "markdown",
      "source": [
        "5.11 - Findthefirst10digitsin2^100."
      ],
      "metadata": {
        "id": "QG0gXIJxDCvE"
      }
    },
    {
      "cell_type": "code",
      "source": [
        "# Take[IntegerDigits[2^100], 10]\n"
      ],
      "metadata": {
        "id": "35MxU4xqDFN1"
      },
      "execution_count": null,
      "outputs": []
    },
    {
      "cell_type": "markdown",
      "source": [
        "5.12 - Findthelastdigitof2^37."
      ],
      "metadata": {
        "id": "KuspLHXuDFUn"
      }
    },
    {
      "cell_type": "code",
      "source": [
        "# Mod[2^37, 10]\n"
      ],
      "metadata": {
        "id": "CMJdhmbADfKB"
      },
      "execution_count": null,
      "outputs": []
    },
    {
      "cell_type": "markdown",
      "source": [
        "5.13 - Findthesecond-to-lastdigitof2^32."
      ],
      "metadata": {
        "id": "6VutEJdGDfQ_"
      }
    },
    {
      "cell_type": "code",
      "source": [
        "# IntegerDigits[2^32][[-2]]\n"
      ],
      "metadata": {
        "id": "B8W8dUzJDifa"
      },
      "execution_count": null,
      "outputs": []
    },
    {
      "cell_type": "markdown",
      "source": [
        "5.14 - Findthelargestdigitthatappearsin2^20."
      ],
      "metadata": {
        "id": "c-EaFf4hDime"
      }
    },
    {
      "cell_type": "code",
      "source": [
        "# Max[IntegerDigits[2^20]]\n"
      ],
      "metadata": {
        "id": "6tUMTQIIDmpU"
      },
      "execution_count": null,
      "outputs": []
    },
    {
      "cell_type": "markdown",
      "source": [
        "5.15 - Findthesumofallthedigitsof3^126."
      ],
      "metadata": {
        "id": "6sBzzIgDDmuK"
      }
    },
    {
      "cell_type": "code",
      "source": [
        "# Total[IntegerDigits[3^126]]\n"
      ],
      "metadata": {
        "id": "dtpcbrhMDpiG"
      },
      "execution_count": null,
      "outputs": []
    },
    {
      "cell_type": "markdown",
      "source": [
        "5.16 - Findhowmanyzerosappearinthedigitsof2^1000."
      ],
      "metadata": {
        "id": "U9OHVYQADpt_"
      }
    },
    {
      "cell_type": "code",
      "source": [
        "# Count[IntegerDigits[2^1000], 0]\n"
      ],
      "metadata": {
        "id": "LT6b1ARXDtZs"
      },
      "execution_count": null,
      "outputs": []
    },
    {
      "cell_type": "markdown",
      "source": [
        "5.17 - UsePart,SortandIntegerDigitstofindthesecond-smallestdigitin2^20."
      ],
      "metadata": {
        "id": "gs8KcnjRDtgP"
      }
    },
    {
      "cell_type": "code",
      "source": [
        "# Part[Sort[IntegerDigits[2^20]], 2]\n"
      ],
      "metadata": {
        "id": "09MnPIW6Dwr4"
      },
      "execution_count": null,
      "outputs": []
    },
    {
      "cell_type": "markdown",
      "source": [
        "5.18 - Makealineplotofthesequenceofdigitsthatappearin2^128"
      ],
      "metadata": {
        "id": "gW0Ds96kDwyf"
      }
    },
    {
      "cell_type": "code",
      "source": [
        "# ListLinePlot[IntegerDigits[2^128]]\n"
      ],
      "metadata": {
        "id": "PnIFAnBsD0iZ"
      },
      "execution_count": null,
      "outputs": []
    },
    {
      "cell_type": "markdown",
      "source": [
        "5.19 - Makeapiechartofthesequenceofdigitsthatappearin2^32."
      ],
      "metadata": {
        "id": "dKMKcB1uD0qS"
      }
    },
    {
      "cell_type": "code",
      "source": [
        "# PieChart[IntegerDigits[2^32]]\n"
      ],
      "metadata": {
        "id": "JKnXwqQgD4CM"
      },
      "execution_count": null,
      "outputs": []
    },
    {
      "cell_type": "markdown",
      "source": [
        "5.20 - Makealistofpiechartsforthesequenceofdigitsin2^20,2^40,2^60."
      ],
      "metadata": {
        "id": "jg8VLQsXD4JY"
      }
    },
    {
      "cell_type": "code",
      "source": [
        "# PieChart[IntegerDigits[#]] & /@ {2^20, 2^40, 2^60}\n"
      ],
      "metadata": {
        "id": "YgirD7kyD9JK"
      },
      "execution_count": null,
      "outputs": []
    },
    {
      "cell_type": "markdown",
      "source": [
        "5.21 - UseTakeandDroptogetthesequence11through20from"
      ],
      "metadata": {
        "id": "l2SBzAa7D9QA"
      }
    },
    {
      "cell_type": "code",
      "source": [
        "# list = Range[20];\n",
        "# Take[list, {11, 20}]\n"
      ],
      "metadata": {
        "id": "25S_l7L4EASg"
      },
      "execution_count": null,
      "outputs": []
    },
    {
      "cell_type": "markdown",
      "source": [
        "6.1 - Makealistinwhichthenumber1000isrepeated5times."
      ],
      "metadata": {
        "id": "NwUSgC34EAmT"
      }
    },
    {
      "cell_type": "code",
      "source": [
        "# ConstantArray[1000, 5]\n"
      ],
      "metadata": {
        "id": "XCljBjeSJpKc"
      },
      "execution_count": null,
      "outputs": []
    },
    {
      "cell_type": "markdown",
      "source": [
        "6.2 - Makeatableofthevaluesof\n",
        "n^3\n",
        "for\n",
        "n\n",
        "from10to20"
      ],
      "metadata": {
        "id": "vfzw6E3vJpP4"
      }
    },
    {
      "cell_type": "code",
      "source": [
        "# Table[n^3, {n, 10, 20}]\n"
      ],
      "metadata": {
        "id": "nvPi-MCHJter"
      },
      "execution_count": null,
      "outputs": []
    },
    {
      "cell_type": "markdown",
      "source": [
        "6.3 - Makeanumberlineplotofthefirst20squares."
      ],
      "metadata": {
        "id": "QnJFcbSTJtkH"
      }
    },
    {
      "cell_type": "code",
      "source": [
        "# NumberLinePlot[Table[n^2, {n, 0,20}]]\n"
      ],
      "metadata": {
        "id": "UKot0zPnJxyS"
      },
      "execution_count": null,
      "outputs": []
    },
    {
      "cell_type": "markdown",
      "source": [
        "6.4 - Makealistofthedifferencesbetween\n",
        "n^3\n",
        "and\n",
        "n^2\n",
        "with\n",
        "n\n",
        "upto10."
      ],
      "metadata": {
        "id": "byPFpHr9Jx3v"
      }
    },
    {
      "cell_type": "code",
      "source": [
        "# differences = Table[n^3 - n^2, {n, 1, 10}]\n",
        "\n"
      ],
      "metadata": {
        "id": "SYcswBKLJ17o"
      },
      "execution_count": null,
      "outputs": []
    },
    {
      "cell_type": "markdown",
      "source": [
        "6.5 - Makealistoftheevennumbers(2,4,6,…)upto20."
      ],
      "metadata": {
        "id": "3MBfyXstJ2B_"
      }
    },
    {
      "cell_type": "code",
      "source": [
        "# Range[2, 20, 2]\n"
      ],
      "metadata": {
        "id": "G4PRJJFsJ47J"
      },
      "execution_count": null,
      "outputs": []
    },
    {
      "cell_type": "markdown",
      "source": [
        "6.6 - Makealistoftheoddnumbers(1,3,5,…)upto100."
      ],
      "metadata": {
        "id": "uK3ZqsxyJ5AD"
      }
    },
    {
      "cell_type": "code",
      "source": [
        "# Range[1, 100, 2]\n"
      ],
      "metadata": {
        "id": "tbxKN0DXJ7wU"
      },
      "execution_count": null,
      "outputs": []
    },
    {
      "cell_type": "markdown",
      "source": [
        "6.7 - Makealistofthesquaresofevennumbersupto100."
      ],
      "metadata": {
        "id": "PGX_no-sJ76q"
      }
    },
    {
      "cell_type": "code",
      "source": [
        "# squaresOfEvens = Select[Range[2, 100, 2], EvenQ] ^ 2\n",
        "\n"
      ],
      "metadata": {
        "id": "72ULcgyDKB3n"
      },
      "execution_count": null,
      "outputs": []
    },
    {
      "cell_type": "markdown",
      "source": [
        "6.8 - Createthelist\n",
        "{-3,-2,-1,0,1,2}\n",
        "usingRange"
      ],
      "metadata": {
        "id": "XLAhEKmtKB-u"
      }
    },
    {
      "cell_type": "code",
      "source": [
        "# Range[-3, 2]\n"
      ],
      "metadata": {
        "id": "Kc14CVW8KH2A"
      },
      "execution_count": null,
      "outputs": []
    },
    {
      "cell_type": "markdown",
      "source": [
        "6.9 - UseTabletogetthesameresultas\n",
        "Range[10]"
      ],
      "metadata": {
        "id": "94YLVf7rKH_I"
      }
    },
    {
      "cell_type": "code",
      "source": [
        "# Table[n, {n, 10}]\n"
      ],
      "metadata": {
        "id": "UioVIUcaKLtD"
      },
      "execution_count": null,
      "outputs": []
    },
    {
      "cell_type": "markdown",
      "source": [
        "6.10 - Makeabarchartofthefirst10squares"
      ],
      "metadata": {
        "id": "RiIniUVLKL3T"
      }
    },
    {
      "cell_type": "code",
      "source": [
        "# BarChart[Range[10]^2]\n"
      ],
      "metadata": {
        "id": "neCYqwhhKQFv"
      },
      "execution_count": null,
      "outputs": []
    },
    {
      "cell_type": "markdown",
      "source": [
        "6.11 - Makealistfornumbers\n",
        "n\n",
        "upto20inwhicheachelementisacolumnofthevaluesof\n",
        "n\n",
        ",\n",
        "n^2\n",
        "and\n",
        "n^3\n",
        "."
      ],
      "metadata": {
        "id": "q1MOJ_dUKQI3"
      }
    },
    {
      "cell_type": "code",
      "source": [
        "# Table[{n, n^2, n^3}, {n, 1, 20}]\n"
      ],
      "metadata": {
        "id": "dmw24oprKTKp"
      },
      "execution_count": null,
      "outputs": []
    },
    {
      "cell_type": "markdown",
      "source": [
        "6.12 - Makeatableoflistsofdigitsforthefirst10squares"
      ],
      "metadata": {
        "id": "Lv04_GgEKTRp"
      }
    },
    {
      "cell_type": "code",
      "source": [
        "# Table[IntegerDigits[n^2], {n, 1, 10}]\n"
      ],
      "metadata": {
        "id": "MWPIX5s9KWNW"
      },
      "execution_count": null,
      "outputs": []
    },
    {
      "cell_type": "markdown",
      "source": [
        "6.13 - Makealistlineplotofthelengthofthesequenceofdigitsforeachofthefirst100squares"
      ],
      "metadata": {
        "id": "CS3ZkL8kKWSU"
      }
    },
    {
      "cell_type": "code",
      "source": [
        "# ListLinePlot[Length /@ IntegerDigits[Range[100]^2]]\n"
      ],
      "metadata": {
        "id": "66mu61tZKZUy"
      },
      "execution_count": null,
      "outputs": []
    },
    {
      "cell_type": "markdown",
      "source": [
        "6.14 - Makeatableofthefirstdigitsofthefirst20squares."
      ],
      "metadata": {
        "id": "DRSMSqWEKZbq"
      }
    },
    {
      "cell_type": "code",
      "source": [
        "# Table[IntegerDigits[i^2][[1]], {i, 1, 20}]\n"
      ],
      "metadata": {
        "id": "RgtNEgC8KcX8"
      },
      "execution_count": null,
      "outputs": []
    },
    {
      "cell_type": "markdown",
      "source": [
        "6.15 - Makealistlineplotofthefirstdigitsofthefirst100squares."
      ],
      "metadata": {
        "id": "DOTL7MipKci4"
      }
    },
    {
      "cell_type": "code",
      "source": [
        "# ListLinePlot[IntegerDigits[Range[100]^2][[All, 1]]]\n"
      ],
      "metadata": {
        "id": "0QUrlcIBKfiz"
      },
      "execution_count": null,
      "outputs": []
    },
    {
      "cell_type": "markdown",
      "source": [
        "6.16 - Makealistlineplotofthelastdigitofeachofthefirst100squares"
      ],
      "metadata": {
        "id": "oKJ3-7W_Kfoi"
      }
    },
    {
      "cell_type": "code",
      "source": [
        "# ListLinePlot[Mod[Range[100]^2, 10]]\n"
      ],
      "metadata": {
        "id": "XiTX-Q9mKjGP"
      },
      "execution_count": null,
      "outputs": []
    },
    {
      "cell_type": "markdown",
      "source": [
        "6.17 - Makealistlineplotofthefirstdigitofthefirst100multiplesof3."
      ],
      "metadata": {
        "id": "eHJ5TLqzKjMv"
      }
    },
    {
      "cell_type": "code",
      "source": [
        "# ListLinePlot[IntegerDigits[Range[3, 300, 3]][[All, 1]]]\n"
      ],
      "metadata": {
        "id": "9m8FYa9eKmWf"
      },
      "execution_count": null,
      "outputs": []
    },
    {
      "cell_type": "markdown",
      "source": [
        "6.18 - Makealistlineplotofthetotalofthedigitsforeachnumberupto200."
      ],
      "metadata": {
        "id": "GYNCAGMOKma4"
      }
    },
    {
      "cell_type": "code",
      "source": [
        "# ListLinePlot[Total /@ IntegerDigits[Range[200]]]\n"
      ],
      "metadata": {
        "id": "6N3K_mjOKpv_"
      },
      "execution_count": null,
      "outputs": []
    },
    {
      "cell_type": "markdown",
      "source": [
        "6.19 - Makealistlineplotofthetotalofthedigitsforeachofthefirst100squares"
      ],
      "metadata": {
        "id": "uQJSIqBAKp00"
      }
    },
    {
      "cell_type": "code",
      "source": [
        "# ListLinePlot[Total /@ IntegerDigits[Range[100]^2]]\n"
      ],
      "metadata": {
        "id": "i0VDHDE2KtM_"
      },
      "execution_count": null,
      "outputs": []
    },
    {
      "cell_type": "markdown",
      "source": [
        "6.20 - Makeanumberlineplotofthenumbers\n",
        "1/n\n",
        "with\n",
        "n\n",
        "from1to20"
      ],
      "metadata": {
        "id": "E5Mnva62KtRs"
      }
    },
    {
      "cell_type": "code",
      "source": [
        "# NumberLinePlot[Table[1/n, {n, 1, 20}]]\n"
      ],
      "metadata": {
        "id": "wybb3tWtKwMC"
      },
      "execution_count": null,
      "outputs": []
    },
    {
      "cell_type": "markdown",
      "source": [
        "6.21 - Makealineplotofalistof100randomintegerswherethe\n",
        "th\n",
        "n\n",
        "integerisbetween0and\n",
        "n\n"
      ],
      "metadata": {
        "id": "hN_0V7JqKwSz"
      }
    },
    {
      "cell_type": "code",
      "source": [
        "# randomIntegers = Table[RandomInteger[{0, n}], {n, 1, 100}];\n",
        "#ListLinePlot[randomIntegers]\n"
      ],
      "metadata": {
        "id": "lOYPrgsUKzdF"
      },
      "execution_count": null,
      "outputs": []
    },
    {
      "cell_type": "markdown",
      "source": [],
      "metadata": {
        "id": "-ReeWALBKzkt"
      }
    }
  ]
}